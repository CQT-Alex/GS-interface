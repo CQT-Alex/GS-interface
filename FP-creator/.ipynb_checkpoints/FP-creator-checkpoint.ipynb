{
 "cells": [
  {
   "cell_type": "code",
   "execution_count": 90,
   "metadata": {},
   "outputs": [],
   "source": [
    "import dateutil \n",
    "import dateutil.parser\n",
    "import datetime"
   ]
  },
  {
   "cell_type": "code",
   "execution_count": 91,
   "metadata": {},
   "outputs": [],
   "source": [
    "f = open(\"easy-fpscript1.txt\", \"r\")"
   ]
  },
  {
   "cell_type": "code",
   "execution_count": 92,
   "metadata": {},
   "outputs": [],
   "source": [
    "script = []\n",
    "for line in f:\n",
    "    script.append(line.strip())"
   ]
  },
  {
   "cell_type": "code",
   "execution_count": 93,
   "metadata": {},
   "outputs": [],
   "source": [
    "#script[0]\n",
    "f.close()"
   ]
  },
  {
   "cell_type": "code",
   "execution_count": 94,
   "metadata": {},
   "outputs": [],
   "source": [
    "line0_tokens = script[0].split(\": \")"
   ]
  },
  {
   "cell_type": "code",
   "execution_count": 95,
   "metadata": {},
   "outputs": [],
   "source": [
    "#line0_tokens\n"
   ]
  },
  {
   "cell_type": "code",
   "execution_count": 96,
   "metadata": {},
   "outputs": [],
   "source": [
    "fp_name = line0_tokens[1].strip()"
   ]
  },
  {
   "cell_type": "code",
   "execution_count": 97,
   "metadata": {},
   "outputs": [],
   "source": [
    "l1_tokens = script[1].split(\": \")"
   ]
  },
  {
   "cell_type": "code",
   "execution_count": 98,
   "metadata": {},
   "outputs": [],
   "source": [
    "begin_time_input = l1_tokens[1].strip()"
   ]
  },
  {
   "cell_type": "code",
   "execution_count": 99,
   "metadata": {},
   "outputs": [],
   "source": [
    "l2_tokens = script[2].split(\": \")\n"
   ]
  },
  {
   "cell_type": "code",
   "execution_count": 100,
   "metadata": {},
   "outputs": [],
   "source": [
    "default_delay_seconds = int(l2_tokens[1].strip())"
   ]
  },
  {
   "cell_type": "code",
   "execution_count": 101,
   "metadata": {},
   "outputs": [],
   "source": [
    "start_datetime = dateutil.parser.parse(begin_time_input)"
   ]
  },
  {
   "cell_type": "code",
   "execution_count": 102,
   "metadata": {},
   "outputs": [
    {
     "data": {
      "text/plain": [
       "1553068930.0"
      ]
     },
     "execution_count": 102,
     "metadata": {},
     "output_type": "execute_result"
    }
   ],
   "source": [
    "start_datetime.timestamp()"
   ]
  },
  {
   "cell_type": "code",
   "execution_count": 103,
   "metadata": {},
   "outputs": [],
   "source": [
    "outscript = []"
   ]
  },
  {
   "cell_type": "code",
   "execution_count": 104,
   "metadata": {},
   "outputs": [],
   "source": [
    "execute_at_time = start_datetime.timestamp()"
   ]
  },
  {
   "cell_type": "code",
   "execution_count": 105,
   "metadata": {},
   "outputs": [],
   "source": [
    "def create_command(fp_name,line,index,default_delay,execute_at_time):\n",
    "    if line[:5] == \"delay\":\n",
    "        d_raw = line.split()[1].strip()\n",
    "        d = d_raw.split(\":\")\n",
    "        delay_seconds = int(d[0]) * 60*60 +int(d[1])*60+ int(d[2])\n",
    "        return delay_seconds, \"\"\n",
    "    else :\n",
    "        name = fp_name +\"a\"+str(index)\n",
    "        command = line\n",
    "        timer_state = str(0)\n",
    "        timer_basis = str(0) #for absolute time which works. relative time does note work\n",
    "        timer_last_exec = str(3)\n",
    "        timer_last_exec_ns = str(0)\n",
    "        timer_activation_time = str(int(execute_at_time))\n",
    "        timer_activation_time_ns = str(0)\n",
    "        timer_repeat = str(1)\n",
    "        compiled_command = name+','+command+',' \\\n",
    "                            +timer_state+','+timer_basis+',' \\\n",
    "                            +timer_last_exec+','+timer_last_exec_ns+',' \\\n",
    "                            +timer_activation_time+','+timer_last_exec_ns+',' \\\n",
    "                            +timer_repeat+'\\n'\n",
    "        return default_delay,compiled_command\n",
    "        \n"
   ]
  },
  {
   "cell_type": "code",
   "execution_count": 106,
   "metadata": {},
   "outputs": [],
   "source": [
    "for index, line in enumerate(script[3:]):\n",
    "    if len(line.strip()) <2: \n",
    "        continue\n",
    "    delay,f_comm = create_command(fp_name,line,index,default_delay_seconds,execute_at_time)\n",
    "    execute_at_time += delay\n",
    "    if f_comm == \"\":\n",
    "        continue\n",
    "    else :\n",
    "        outscript.append(f_comm)\n",
    "    \n",
    "    "
   ]
  },
  {
   "cell_type": "code",
   "execution_count": 107,
   "metadata": {},
   "outputs": [],
   "source": [
    "#outscript"
   ]
  },
  {
   "cell_type": "code",
   "execution_count": 108,
   "metadata": {},
   "outputs": [],
   "source": [
    "of = open(fp_name+\".txt\",\"w\")\n",
    "\n",
    "for line in outscript:\n",
    "    of.write(line)\n",
    "\n",
    "of.close()"
   ]
  },
  {
   "cell_type": "code",
   "execution_count": null,
   "metadata": {},
   "outputs": [],
   "source": []
  }
 ],
 "metadata": {
  "kernelspec": {
   "display_name": "Python 3",
   "language": "python",
   "name": "python3"
  },
  "language_info": {
   "codemirror_mode": {
    "name": "ipython",
    "version": 3
   },
   "file_extension": ".py",
   "mimetype": "text/x-python",
   "name": "python",
   "nbconvert_exporter": "python",
   "pygments_lexer": "ipython3",
   "version": "3.5.2"
  }
 },
 "nbformat": 4,
 "nbformat_minor": 2
}
