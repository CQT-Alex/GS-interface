{
 "cells": [
  {
   "cell_type": "code",
   "execution_count": 61,
   "metadata": {},
   "outputs": [],
   "source": [
    "import dateutil \n",
    "import datetime"
   ]
  },
  {
   "cell_type": "code",
   "execution_count": 62,
   "metadata": {},
   "outputs": [],
   "source": [
    "f = open(\"easy-fpscript1.txt\", \"r\")"
   ]
  },
  {
   "cell_type": "code",
   "execution_count": 63,
   "metadata": {},
   "outputs": [],
   "source": [
    "script = []\n",
    "for line in f:\n",
    "    script.append(line.strip())"
   ]
  },
  {
   "cell_type": "code",
   "execution_count": 64,
   "metadata": {},
   "outputs": [
    {
     "data": {
      "text/plain": [
       "'fp_name: testfp'"
      ]
     },
     "execution_count": 64,
     "metadata": {},
     "output_type": "execute_result"
    }
   ],
   "source": [
    "script[0]"
   ]
  },
  {
   "cell_type": "code",
   "execution_count": 65,
   "metadata": {},
   "outputs": [],
   "source": [
    "line0_tokens = script[0].split(\": \")"
   ]
  },
  {
   "cell_type": "code",
   "execution_count": 66,
   "metadata": {},
   "outputs": [
    {
     "data": {
      "text/plain": [
       "['fp_name', 'testfp']"
      ]
     },
     "execution_count": 66,
     "metadata": {},
     "output_type": "execute_result"
    }
   ],
   "source": [
    "line0_tokens\n"
   ]
  },
  {
   "cell_type": "code",
   "execution_count": 67,
   "metadata": {},
   "outputs": [],
   "source": [
    "fp_name = line0_tokens[1].strip()"
   ]
  },
  {
   "cell_type": "code",
   "execution_count": 68,
   "metadata": {},
   "outputs": [],
   "source": [
    "l1_tokens = script[1].split(\": \")"
   ]
  },
  {
   "cell_type": "code",
   "execution_count": 69,
   "metadata": {},
   "outputs": [],
   "source": [
    "begin_time_input = l1_tokens[1].strip()"
   ]
  },
  {
   "cell_type": "code",
   "execution_count": 70,
   "metadata": {},
   "outputs": [],
   "source": [
    "l2_tokens = script[2].split(\": \")\n"
   ]
  },
  {
   "cell_type": "code",
   "execution_count": 71,
   "metadata": {},
   "outputs": [],
   "source": [
    "default_delay_seconds = int(l2_tokens[1].strip())"
   ]
  },
  {
   "cell_type": "code",
   "execution_count": 72,
   "metadata": {},
   "outputs": [],
   "source": [
    "start_datetime = dateutil.parser.parse(begin_time_input)"
   ]
  },
  {
   "cell_type": "code",
   "execution_count": 73,
   "metadata": {},
   "outputs": [
    {
     "data": {
      "text/plain": [
       "1553068930.0"
      ]
     },
     "execution_count": 73,
     "metadata": {},
     "output_type": "execute_result"
    }
   ],
   "source": [
    "start_datetime.timestamp()"
   ]
  },
  {
   "cell_type": "code",
   "execution_count": 74,
   "metadata": {},
   "outputs": [],
   "source": [
    "outscript = []"
   ]
  },
  {
   "cell_type": "code",
   "execution_count": 82,
   "metadata": {},
   "outputs": [
    {
     "name": "stdout",
     "output_type": "stream",
     "text": [
      "0 param mem 1\n",
      "1 param list\n",
      "2 delay 00:00:8\n",
      "3 param mem 1\n",
      "4 param set en_payload 1\n",
      "5 delay 00:30:00\n",
      "6 param mem 1\n",
      "7 param list\n"
     ]
    }
   ],
   "source": []
  },
  {
   "cell_type": "code",
   "execution_count": 86,
   "metadata": {},
   "outputs": [],
   "source": [
    "def create_command(fp_name,line,index,default_delay,execute_at_time):\n",
    "    if line[:5] == \"delay\":\n",
    "        d_raw = line.split()[1].strip()\n",
    "        d = d_raw.split(\":\")\n",
    "        delay_seconds = int(d[0]) * 60*60 +int(d[1])*60+ int(d[2])\n",
    "        return delay_seconds, \"\"\n",
    "    else :\n",
    "        name = fp_name +\"a\"+str(index)\n",
    "        command = line\n",
    "        timer_state = str(0)\n",
    "        timer_basis = str(0) #for absolute time which works. relative time does note work\n",
    "        timer_last_exec = str(3000)\n",
    "        \n",
    "        \n",
    "        \n"
   ]
  },
  {
   "cell_type": "code",
   "execution_count": 89,
   "metadata": {},
   "outputs": [
    {
     "name": "stdout",
     "output_type": "stream",
     "text": [
      "(1, 'param mem 1')\n",
      "(1, 'param list')\n",
      "(8, '')\n",
      "(1, 'param mem 1')\n",
      "(1, 'param set en_payload 1')\n",
      "(1800, '')\n",
      "(1, 'param mem 1')\n",
      "(1, 'param list')\n"
     ]
    }
   ],
   "source": [
    "\n",
    "for index, line in enumerate(script[3:]):\n",
    "    if len(line.strip()) <2: \n",
    "        continue\n",
    "    print(create_command(fp_name,line,index,default_delay_seconds,execute_at_time))\n",
    "    \n",
    "    "
   ]
  },
  {
   "cell_type": "code",
   "execution_count": null,
   "metadata": {},
   "outputs": [],
   "source": []
  }
 ],
 "metadata": {
  "kernelspec": {
   "display_name": "Python 3",
   "language": "python",
   "name": "python3"
  },
  "language_info": {
   "codemirror_mode": {
    "name": "ipython",
    "version": 3
   },
   "file_extension": ".py",
   "mimetype": "text/x-python",
   "name": "python",
   "nbconvert_exporter": "python",
   "pygments_lexer": "ipython3",
   "version": "3.5.2"
  }
 },
 "nbformat": 4,
 "nbformat_minor": 2
}
